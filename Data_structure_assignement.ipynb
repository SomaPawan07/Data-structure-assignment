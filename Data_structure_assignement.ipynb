{
  "nbformat": 4,
  "nbformat_minor": 0,
  "metadata": {
    "colab": {
      "provenance": []
    },
    "kernelspec": {
      "name": "python3",
      "display_name": "Python 3"
    },
    "language_info": {
      "name": "python"
    }
  },
  "cells": [
    {
      "cell_type": "markdown",
      "source": [
        "#**Data structure assignment**\n"
      ],
      "metadata": {
        "id": "EMCmsqLDTU9O"
      }
    },
    {
      "cell_type": "markdown",
      "source": [
        "Q1. What are data structures, and why are they important ?\n",
        "-   Data structures are specialized formats for organizing, storing, and accessing collections of data. They provide efficient ways to manage information based on its characteristics and intended use.\n",
        "\n",
        "The data structure is important because:-\n",
        "1. Choosing the right data structure significantly impacts the efficiency and performance of your program.\n",
        "2. Well-chosen data structures can: Simplify data manipulation (adding, removing, modifying elements)\n",
        "3. It can optimize searching and sorting operations\n",
        "4. It also conserve memory usage\n",
        "\n"
      ],
      "metadata": {
        "id": "33vIbLgTTq0i"
      }
    },
    {
      "cell_type": "markdown",
      "source": [],
      "metadata": {
        "id": "KQVRT6SlrcTH"
      }
    },
    {
      "cell_type": "markdown",
      "source": [
        "Q2. Explain the difference between mutable and immutable data types with examples.\n",
        "-   Mutable and immutable data types are fundamental concepts in programming, particularly in languages like Python.\n",
        "\n",
        "The difference between them are as follows:\n",
        "\n",
        "Mutable - Mutable data types can be modified but are less efficient for small changes and are also not thread safe.\n",
        "Example:- Lists, Dictionaries and sets.          \n",
        "\n",
        "Immutable - Immutable data types cannot be modified but are more efficient and are also thread safe.\n",
        "Example:- Strings, Tuples, Integers, Floats"
      ],
      "metadata": {
        "id": "AtTiwO-frg5L"
      }
    },
    {
      "cell_type": "markdown",
      "source": [
        "Q3.  What are the main differences between lists and tuples in Python?"
      ],
      "metadata": {
        "id": "Q9uaY2vsxYcz"
      }
    },
    {
      "cell_type": "markdown",
      "source": [
        "The diffence between lists and tuples in python are as follows:\n",
        "\n",
        "Lists - List is an ordered, mutable collections of elements.It can hold items of various data types numbers, strings, even other lists.\n",
        "It can perform various operations like add, remove, or modify elements within a list using indexing and slicing. Lists are versatile for storing and managing collections that might change.\n",
        "\n",
        "Tuples - Tuples is an Ordered, immutable collections of elements, similar to lists. However, once created, the items in a tuple cannot be changed. They provide a secure way to store data that shouldn't be modified.\n",
        "We can perform various operations like accessing elements using indexing and slicing, but you cannot modify the content. Tuples are useful for representing fixed datasets or configurations.\n",
        "  "
      ],
      "metadata": {
        "id": "fxLS8-IWyDrp"
      }
    },
    {
      "cell_type": "markdown",
      "source": [],
      "metadata": {
        "id": "977R00zYzPNw"
      }
    },
    {
      "cell_type": "markdown",
      "source": [
        "Q4. Describe how dictionaries store data.\n",
        "-   Dictionary is an unordered collection of elements and are not stored in a specific order.In unique key-value pairs each key acts as a unique identifier for retrieving an associated value.It is having a flexible data types in the form of keys and values like strings, numbers, lists, and even other dictionaries.\n",
        "\n"
      ],
      "metadata": {
        "id": "CSmCdGe2zSHv"
      }
    },
    {
      "cell_type": "markdown",
      "source": [
        "Q5. Why might you use a set instead of a list in Python?\n",
        "-   In Python, choosing between a set and a list depends on the specific requirements of your task.\n",
        "Few advantages are as follows:\n",
        "1. Ensuring Uniqueness:Sets automatically eliminate duplicate entries. If you need a collection of unique elements, a set is ideal.\n",
        "2. Faster Membership Testing: Set is more efficient and beneficial for large datasets.\n",
        "3. Performing Set Operations:Sets support mathematical operations like union, intersection, and difference, which are not directly available with lists.\n",
        "4. Unordered Collections: If the order of elements is not important, sets provide a more efficient way to store and manage data."
      ],
      "metadata": {
        "id": "hBxnSvwo1UfI"
      }
    },
    {
      "cell_type": "markdown",
      "source": [
        "Q6. What is a string in Python, and how is it different from a list?\n",
        "-   String is a caracter which is arranged in an unchangeable order. We can consider writing a sentence, a paragraph, or a piece of material.\n",
        "\n",
        " The difference between string and list are as follows:\n",
        "1. String - A string in Python is an immutable character which is used to represent textual data. It is having a data type characters and are enclosed in syntax quotes (') or (\").String requires a modification in creating a new string. It is generally represnted in text form.\n",
        "\n",
        "2. List - A list in Python is a mutable sequence that can hold a collection of items, which can be of any data types. It is enclosed in ([]) and can modify in place.Its use case is generally a collection of items."
      ],
      "metadata": {
        "id": "k55BY_Je2qs6"
      }
    },
    {
      "cell_type": "markdown",
      "source": [
        "Q7. How do tuples ensure data integrity in Python?\n",
        "-   In Python, tuples are immutable, ordered collections of elements. This immutability plays a crucial role in ensuring data integrity by preventing unintended modifications to the data they contain.\n",
        "1. Immutability Ensures Consistency\n",
        "2. Thread-Safety in Concurrent Environments\n",
        "3. Ideal for Fixed Data Representations\n"
      ],
      "metadata": {
        "id": "tcXZqW_P5WjV"
      }
    },
    {
      "cell_type": "markdown",
      "source": [
        "Q8. What is a hash table, and how does it relate to dictionaries in Python?\n",
        "-   A hash table is a data structure that maps keys to values using a hash function. The hash function computes an index (also called a hash code) into an array of buckets or slots, from which the desired value can be found.In Python, the built-in (dict) type is implemented using a hash table."
      ],
      "metadata": {
        "id": "qxRnAfDP7V3T"
      }
    },
    {
      "cell_type": "markdown",
      "source": [
        "Q9. Can lists contain different data types in Python?\n",
        "-   Yes, lists in Python can contain different data types.Python lists are heterogeneous, means they can hold elements of any type, including a mix of types within the same list.\n"
      ],
      "metadata": {
        "id": "_7VHhifp8c_q"
      }
    },
    {
      "cell_type": "markdown",
      "source": [
        "Q10. Explain why strings are immutable in Python?\n",
        "-    Strings are immutable in Python because once a string object is created, its contents cannot be changed.\n",
        "Strings are immutable in Python to ensure:\n",
        "1.Safety and simplicity to prevent it from accidental changes\n",
        "2.Strings are immutable objects that can be hashed, which is essential for\n",
        "using it as dictionary keys and Storing them in sets\n",
        "3.Its performance optimization saves memory and speed up comparisons\n",
        "\n"
      ],
      "metadata": {
        "id": "OhOsw5Ry8yIj"
      }
    },
    {
      "cell_type": "markdown",
      "source": [
        "Q11. What advantages do dictionaries offer over lists for certain tasks?\n",
        "-    Dictionaries offer several key advantages over lists for certain tasks:\n",
        "1. Faster lookups\n",
        "2. Key based access\n",
        "3. No Need to Know Position\n",
        "4. Avoiding Duplicate Keys"
      ],
      "metadata": {
        "id": "OY_loM4R-rWl"
      }
    },
    {
      "cell_type": "markdown",
      "source": [
        "Q12. Describe a scenario where using a tuple would be preferable over a list ?\n",
        "-    Tuples are immutable types and can be used as dictionary keys or elements of sets. Lists can't be used for this, but tuples can.\n",
        "Example: Using a tuple as a key:\n"
      ],
      "metadata": {
        "id": "gZO1Q7z3_QKq"
      }
    },
    {
      "cell_type": "code",
      "source": [
        "grid = {}\n",
        "grid[(1, 2)] = \"Tree\"\n",
        "grid[(2, 3)] = \"Water\"\n",
        "grid"
      ],
      "metadata": {
        "colab": {
          "base_uri": "https://localhost:8080/"
        },
        "id": "WcuFFMKoAtwA",
        "outputId": "c4eecc2e-4e8b-4db6-eb01-abda3a31d1a2"
      },
      "execution_count": 1,
      "outputs": [
        {
          "output_type": "execute_result",
          "data": {
            "text/plain": [
              "{(1, 2): 'Tree', (2, 3): 'Water'}"
            ]
          },
          "metadata": {},
          "execution_count": 1
        }
      ]
    },
    {
      "cell_type": "markdown",
      "source": [
        "Q13. How do sets handle duplicate values in Python?\n",
        "-    In Python, sets automatically remove and prevent duplicate values.The key Behavior of sets are as follows:A set is an unordered collection of unique elements and if we try to add a duplicate value, it is simply ignored—no error, no duplication.\n",
        "\n"
      ],
      "metadata": {
        "id": "jKs6HCF3A0TG"
      }
    },
    {
      "cell_type": "markdown",
      "source": [
        "Q14. How does the “in” keyword work differently for lists and dictionaries?\n",
        "-    The \"in\" keyword is used in both lists and dictionaries in Python, but it behaves differently depending on the data structure:\n",
        "\n",
        "Lists - In lists \"in\" checks whether a value exists among the elements of the list and it performs a linear search.\n",
        "\n",
        "Dictionaries -In dictionary \"in\" checks whether a 'key' exists in the dictionary not a value and lookup is fast using hashing.\n"
      ],
      "metadata": {
        "id": "P7DWi_SRBcbg"
      }
    },
    {
      "cell_type": "markdown",
      "source": [
        "Q15. Can you modify the elements of a tuple? Explain why or why not?\n",
        "-    No, we cannot modify the elements of a tuple in Python. Tuples are immutable their contents cannot be changed after creation because\n",
        "once a tuple is created, we cannot change, add, or remove its elements.\n",
        "Tuples ensures data integrity and prevents accidental changes as well as\n",
        "it can be dictionary keys or set elements if they only contain immutable items.It also gives predictability in code."
      ],
      "metadata": {
        "id": "WNRrMHmTDRdS"
      }
    },
    {
      "cell_type": "markdown",
      "source": [
        "Q16. What is a nested dictionary, and give an example of its use case?\n",
        "-    A nested dictionary in Python is a dictionary where values themselves are dictionaries."
      ],
      "metadata": {
        "id": "B5Ypx6VSEZat"
      }
    },
    {
      "cell_type": "code",
      "source": [
        "nested_dict = {\"Soma\": {\"age\": 27, \"job\": \"Doctor\"},\n",
        "    \"Bob\": {\"age\": 30, \"job\": \"Sales\"}}\n",
        "print(nested_dict)"
      ],
      "metadata": {
        "colab": {
          "base_uri": "https://localhost:8080/"
        },
        "id": "vFryUseoG0S5",
        "outputId": "f83f4d3d-06a8-4dbf-d192-404eb6bf2c01"
      },
      "execution_count": 2,
      "outputs": [
        {
          "output_type": "stream",
          "name": "stdout",
          "text": [
            "{'Soma': {'age': 27, 'job': 'Doctor'}, 'Bob': {'age': 30, 'job': 'Sales'}}\n"
          ]
        }
      ]
    },
    {
      "cell_type": "markdown",
      "source": [
        "Q17. Describe the time complexity of accessing elements in a dictionary?\n",
        "-   Accessing an element in a dictionary using its key typically has a time complexity of on an average, means it takes constant time, regardless of the dictionary's size."
      ],
      "metadata": {
        "id": "5AR29zaOG7aI"
      }
    },
    {
      "cell_type": "markdown",
      "source": [
        "Q18. In what situations are lists preferred over dictionaries?\n",
        "-    Lists are preferred over dictionaries in situations where:\n",
        "1. Lists maintain the order of elements.\n",
        "2. When we just need a simple collection of items without keys.\n",
        "3. When we want to access elements by index rather than by key.\n",
        "4. Lists allow duplicate elements and are relevant.\n",
        "5. Lists make it easy to iterate over items in a guaranteed order."
      ],
      "metadata": {
        "id": "bZidIfyIHilJ"
      }
    },
    {
      "cell_type": "markdown",
      "source": [
        "Q19. Why are dictionaries considered unordered, and how does that affect data retrieval?\n",
        "-    Before Python 3.7, dictionaries were considered unordered collections, means the order of key-value pairs was not guaranteed.\n",
        "We couldn’t rely on items coming out in the same order they were added.\n",
        "It affects the data retrieval by access method using the key , it also access average time , doesn't support index access but insertion order is maintained.\n"
      ],
      "metadata": {
        "id": "Ri-mIBuuIYwc"
      }
    },
    {
      "cell_type": "markdown",
      "source": [
        "Q20. Explain the difference between a list and a dictionary in terms of data retrieval.\n",
        "-    The key difference between a list and a dictionary in terms of data retrieval lies in how elements are accessed:\n",
        "List:\n",
        "1. Indexed collection of elements.\n",
        "2. Data is retrieved by position (integer index).\n",
        "3. Ordered and allows duplicates.\n",
        "\n",
        "Dictionary:\n",
        "1. Key-value pair collection.\n",
        "2. Data is retrieved by key (not index).\n",
        "3. Unordered in concept, but insertion order is preserved"
      ],
      "metadata": {
        "id": "d5ZHVnx6Kzc9"
      }
    },
    {
      "cell_type": "markdown",
      "source": [
        "#**Practical Questions**"
      ],
      "metadata": {
        "id": "IGbxayNGMEEV"
      }
    },
    {
      "cell_type": "markdown",
      "source": [
        "Q1. Write a code to create a string with your name and print it."
      ],
      "metadata": {
        "id": "6O25fMqXMHoU"
      }
    },
    {
      "cell_type": "code",
      "source": [
        "name =\"Soma\"\n",
        "print(name)"
      ],
      "metadata": {
        "colab": {
          "base_uri": "https://localhost:8080/"
        },
        "id": "TNESNtBMMerB",
        "outputId": "f1232d4f-84b2-48cc-b612-85002211b87a"
      },
      "execution_count": 3,
      "outputs": [
        {
          "output_type": "stream",
          "name": "stdout",
          "text": [
            "Soma\n"
          ]
        }
      ]
    },
    {
      "cell_type": "markdown",
      "source": [
        "Q2.  Write a code to find the length of the string \"Hello World\"?"
      ],
      "metadata": {
        "id": "ieyY2MHsNURC"
      }
    },
    {
      "cell_type": "code",
      "source": [
        "s = \"Hello World\"\n",
        "len(s)"
      ],
      "metadata": {
        "colab": {
          "base_uri": "https://localhost:8080/"
        },
        "id": "15a3eJ4iMA4A",
        "outputId": "48947bcf-dcc0-4b2f-ee72-ede2f66134bf"
      },
      "execution_count": 4,
      "outputs": [
        {
          "output_type": "execute_result",
          "data": {
            "text/plain": [
              "11"
            ]
          },
          "metadata": {},
          "execution_count": 4
        }
      ]
    },
    {
      "cell_type": "markdown",
      "source": [
        "Q3. Write a code to slice the first 3 characters from the string \"Python Programming\"?"
      ],
      "metadata": {
        "id": "ep2UXiE7OB5o"
      }
    },
    {
      "cell_type": "code",
      "source": [
        "String1 = \"Python Programming\"\n",
        "String1[0:3]"
      ],
      "metadata": {
        "colab": {
          "base_uri": "https://localhost:8080/",
          "height": 35
        },
        "id": "NgpWMgYtOSSp",
        "outputId": "0c4ff5b8-a782-4ef5-c519-f4396eb9a6c0"
      },
      "execution_count": 5,
      "outputs": [
        {
          "output_type": "execute_result",
          "data": {
            "text/plain": [
              "'Pyt'"
            ],
            "application/vnd.google.colaboratory.intrinsic+json": {
              "type": "string"
            }
          },
          "metadata": {},
          "execution_count": 5
        }
      ]
    },
    {
      "cell_type": "markdown",
      "source": [
        "Q4. Write a code to convert the string \"hello\" to uppercase."
      ],
      "metadata": {
        "id": "uZ_Y1GwgPOtS"
      }
    },
    {
      "cell_type": "code",
      "source": [
        "text = \"hello\"\n",
        "text.upper()"
      ],
      "metadata": {
        "colab": {
          "base_uri": "https://localhost:8080/",
          "height": 35
        },
        "id": "pL0T__HqPRvh",
        "outputId": "72bde393-b45d-46ac-9ca0-718884b598ce"
      },
      "execution_count": 6,
      "outputs": [
        {
          "output_type": "execute_result",
          "data": {
            "text/plain": [
              "'HELLO'"
            ],
            "application/vnd.google.colaboratory.intrinsic+json": {
              "type": "string"
            }
          },
          "metadata": {},
          "execution_count": 6
        }
      ]
    },
    {
      "cell_type": "markdown",
      "source": [
        "Q5. Write a code to replace the word \"apple\" with \"orange\" in the string \"I like apple\"."
      ],
      "metadata": {
        "id": "ar60Ov9tPz8u"
      }
    },
    {
      "cell_type": "code",
      "source": [
        "s = \"I like apple\"\n",
        "s.replace(\"apple\",\"orange\")"
      ],
      "metadata": {
        "colab": {
          "base_uri": "https://localhost:8080/",
          "height": 35
        },
        "id": "8kOOqx0eP5rF",
        "outputId": "0e8c754b-ca39-4cb8-c2de-ecc5ba80f523"
      },
      "execution_count": 7,
      "outputs": [
        {
          "output_type": "execute_result",
          "data": {
            "text/plain": [
              "'I like orange'"
            ],
            "application/vnd.google.colaboratory.intrinsic+json": {
              "type": "string"
            }
          },
          "metadata": {},
          "execution_count": 7
        }
      ]
    },
    {
      "cell_type": "markdown",
      "source": [
        "Q6. Write a code to create a list with numbers 1 to 5 and print it.\n"
      ],
      "metadata": {
        "id": "c1GUVw7JQw4-"
      }
    },
    {
      "cell_type": "code",
      "source": [
        "numbers =[1,2,3,4,5]\n",
        "print(numbers)"
      ],
      "metadata": {
        "colab": {
          "base_uri": "https://localhost:8080/"
        },
        "id": "88IEzHMPQ4pN",
        "outputId": "df7bb4b3-e75c-4fbb-c1c7-c892d96a31e4"
      },
      "execution_count": 8,
      "outputs": [
        {
          "output_type": "stream",
          "name": "stdout",
          "text": [
            "[1, 2, 3, 4, 5]\n"
          ]
        }
      ]
    },
    {
      "cell_type": "markdown",
      "source": [
        "Q7. Write a code to append the number 10 to the list [1, 2, 3, 4]."
      ],
      "metadata": {
        "id": "8nbF4BSjRTAm"
      }
    },
    {
      "cell_type": "code",
      "source": [
        "lis = [1,2,3,4]\n",
        "lis"
      ],
      "metadata": {
        "colab": {
          "base_uri": "https://localhost:8080/"
        },
        "id": "3STVR_bqR6tz",
        "outputId": "26cb9295-c216-429a-c861-12a96628757c"
      },
      "execution_count": 9,
      "outputs": [
        {
          "output_type": "execute_result",
          "data": {
            "text/plain": [
              "[1, 2, 3, 4]"
            ]
          },
          "metadata": {},
          "execution_count": 9
        }
      ]
    },
    {
      "cell_type": "code",
      "source": [
        "lis.append(10)\n",
        "lis"
      ],
      "metadata": {
        "colab": {
          "base_uri": "https://localhost:8080/"
        },
        "id": "HcA7gvRSR_ow",
        "outputId": "33c8cc54-0210-450e-9360-af71a68d3666"
      },
      "execution_count": 10,
      "outputs": [
        {
          "output_type": "execute_result",
          "data": {
            "text/plain": [
              "[1, 2, 3, 4, 10]"
            ]
          },
          "metadata": {},
          "execution_count": 10
        }
      ]
    },
    {
      "cell_type": "markdown",
      "source": [
        "Q8.  Write a code to remove the number 3 from the list [1, 2, 3, 4, 5]."
      ],
      "metadata": {
        "id": "O5qh7AyASHFy"
      }
    },
    {
      "cell_type": "code",
      "source": [
        "lis =[1,2,3,4,5]\n",
        "lis.remove(3)\n",
        "lis"
      ],
      "metadata": {
        "colab": {
          "base_uri": "https://localhost:8080/"
        },
        "id": "npK2cdd3SLLu",
        "outputId": "0443f31a-28fe-4ebf-86c9-a4691cabaaa1"
      },
      "execution_count": 12,
      "outputs": [
        {
          "output_type": "execute_result",
          "data": {
            "text/plain": [
              "[1, 2, 4, 5]"
            ]
          },
          "metadata": {},
          "execution_count": 12
        }
      ]
    },
    {
      "cell_type": "markdown",
      "source": [
        "Q9. Write a code to access the second element in the list ['a', 'b', 'c', 'd']."
      ],
      "metadata": {
        "id": "n7AvQECOxXRe"
      }
    },
    {
      "cell_type": "code",
      "source": [
        "lis =['a','b','c','d']\n",
        "lis[1]"
      ],
      "metadata": {
        "colab": {
          "base_uri": "https://localhost:8080/",
          "height": 35
        },
        "id": "6LkEtExHS2jM",
        "outputId": "28b8395b-018f-47a5-a5f5-0eb7db6e1017"
      },
      "execution_count": 15,
      "outputs": [
        {
          "output_type": "execute_result",
          "data": {
            "text/plain": [
              "'b'"
            ],
            "application/vnd.google.colaboratory.intrinsic+json": {
              "type": "string"
            }
          },
          "metadata": {},
          "execution_count": 15
        }
      ]
    },
    {
      "cell_type": "markdown",
      "source": [
        "Q10. Write a code to reverse the list [10, 20, 30, 40, 50]."
      ],
      "metadata": {
        "id": "aFldd89aThlZ"
      }
    },
    {
      "cell_type": "code",
      "source": [
        "numbers = [10, 20, 30, 40, 50]\n",
        "numbers.reverse()\n",
        "print(numbers)"
      ],
      "metadata": {
        "colab": {
          "base_uri": "https://localhost:8080/"
        },
        "id": "rLdvq8oSTpgo",
        "outputId": "ad07eae1-93af-40e0-9e55-108c4c8bd5dd"
      },
      "execution_count": 16,
      "outputs": [
        {
          "output_type": "stream",
          "name": "stdout",
          "text": [
            "[50, 40, 30, 20, 10]\n"
          ]
        }
      ]
    },
    {
      "cell_type": "markdown",
      "source": [
        "Q11. Write a code to create a tuple with the elements 100, 200, 300 and print it."
      ],
      "metadata": {
        "id": "vkd4aC7DUlJ2"
      }
    },
    {
      "cell_type": "code",
      "source": [
        "my_tuple = (100, 200, 300)\n",
        "print(my_tuple)"
      ],
      "metadata": {
        "colab": {
          "base_uri": "https://localhost:8080/"
        },
        "id": "ojJZqPgSVaTT",
        "outputId": "97bce9ef-c436-4462-e012-c4fc768aa873"
      },
      "execution_count": 17,
      "outputs": [
        {
          "output_type": "stream",
          "name": "stdout",
          "text": [
            "(100, 200, 300)\n"
          ]
        }
      ]
    },
    {
      "cell_type": "markdown",
      "source": [
        "Q12. Write a code to access the second-to-last element of the tuple ('red', 'green', 'blue', 'yellow')."
      ],
      "metadata": {
        "id": "0ozGi2aEVhQ8"
      }
    },
    {
      "cell_type": "code",
      "source": [
        "my_tuple =('red', 'green', 'blue', 'yellow')\n",
        "my_tuple[1::]"
      ],
      "metadata": {
        "colab": {
          "base_uri": "https://localhost:8080/"
        },
        "id": "E08exc48Vs0X",
        "outputId": "6c1ac312-f912-4645-9db5-e9b03ee24efc"
      },
      "execution_count": 19,
      "outputs": [
        {
          "output_type": "execute_result",
          "data": {
            "text/plain": [
              "('green', 'blue', 'yellow')"
            ]
          },
          "metadata": {},
          "execution_count": 19
        }
      ]
    },
    {
      "cell_type": "markdown",
      "source": [
        "Q13. Write a code to find the minimum number in the tuple (10, 20, 5, 15)"
      ],
      "metadata": {
        "id": "6LHxive4Wd3E"
      }
    },
    {
      "cell_type": "code",
      "source": [
        "tuple = (10, 20, 5, 15)\n",
        "min(tuple)"
      ],
      "metadata": {
        "colab": {
          "base_uri": "https://localhost:8080/"
        },
        "id": "UFeI6oUbWlcm",
        "outputId": "10a77c13-2cb9-4405-89d2-f47856d11edf"
      },
      "execution_count": 20,
      "outputs": [
        {
          "output_type": "execute_result",
          "data": {
            "text/plain": [
              "5"
            ]
          },
          "metadata": {},
          "execution_count": 20
        }
      ]
    },
    {
      "cell_type": "markdown",
      "source": [
        "Q14. Write a code to find the index of the element \"cat\" in the tuple ('dog', 'cat', 'rabbit')."
      ],
      "metadata": {
        "id": "SfQ3HcqBW0PC"
      }
    },
    {
      "cell_type": "code",
      "source": [
        "tuple = ('dog', 'cat', 'rabbit')\n",
        "tuple.index(\"cat\")"
      ],
      "metadata": {
        "colab": {
          "base_uri": "https://localhost:8080/"
        },
        "id": "M8R__VjpW9pD",
        "outputId": "8e184917-d3f5-467b-f1d6-77c4dd005012"
      },
      "execution_count": 21,
      "outputs": [
        {
          "output_type": "execute_result",
          "data": {
            "text/plain": [
              "1"
            ]
          },
          "metadata": {},
          "execution_count": 21
        }
      ]
    },
    {
      "cell_type": "markdown",
      "source": [
        "Q15. Write a code to create a tuple containing three different fruits and check if \"kiwi\" is in it."
      ],
      "metadata": {
        "id": "eTjmUo-CXK0g"
      }
    },
    {
      "cell_type": "code",
      "source": [
        "fruits = (\"apple\", \"banana\",\"kiwi\", \"orange\")\n",
        "\n",
        "if \"kiwi\" in fruits:\n",
        "    print(\"Kiwi is in the tuple.\")\n",
        "else:\n",
        "    print(\"Kiwi is not in the tuple.\")"
      ],
      "metadata": {
        "colab": {
          "base_uri": "https://localhost:8080/"
        },
        "id": "yac0bKCmXukZ",
        "outputId": "bfd3ad16-a593-420f-a9ad-5c2e0d089ab4"
      },
      "execution_count": 22,
      "outputs": [
        {
          "output_type": "stream",
          "name": "stdout",
          "text": [
            "Kiwi is in the tuple.\n"
          ]
        }
      ]
    },
    {
      "cell_type": "markdown",
      "source": [
        "Q16. Write a code to create a set with the elements 'a', 'b', 'c' and print it."
      ],
      "metadata": {
        "id": "WVaF4xQTX1oI"
      }
    },
    {
      "cell_type": "code",
      "source": [
        "my_set = {'a', 'b', 'c'}\n",
        "print(my_set)"
      ],
      "metadata": {
        "colab": {
          "base_uri": "https://localhost:8080/"
        },
        "id": "7K1a6mpkYrGd",
        "outputId": "9078e09a-549d-4d4a-ec5c-f30f55b86446"
      },
      "execution_count": 23,
      "outputs": [
        {
          "output_type": "stream",
          "name": "stdout",
          "text": [
            "{'c', 'b', 'a'}\n"
          ]
        }
      ]
    },
    {
      "cell_type": "markdown",
      "source": [
        "Q17. Write a code to clear all elements from the set {1, 2, 3, 4, 5}."
      ],
      "metadata": {
        "id": "MP32rlzdYtdp"
      }
    },
    {
      "cell_type": "code",
      "source": [
        "s ={1,2,3,4,5}\n",
        "s.clear()\n",
        "s"
      ],
      "metadata": {
        "colab": {
          "base_uri": "https://localhost:8080/"
        },
        "id": "gr0nkjIJY3eT",
        "outputId": "437cbda9-6f80-474f-b88d-594a1ae6734c"
      },
      "execution_count": 26,
      "outputs": [
        {
          "output_type": "execute_result",
          "data": {
            "text/plain": [
              "set()"
            ]
          },
          "metadata": {},
          "execution_count": 26
        }
      ]
    },
    {
      "cell_type": "markdown",
      "source": [
        "Q18. Write a code to remove the element 4 from the set {1, 2, 3, 4}."
      ],
      "metadata": {
        "id": "fJqvn33ZZbiq"
      }
    },
    {
      "cell_type": "code",
      "source": [
        "set = {1, 2, 3, 4}\n",
        "set.remove(4)\n",
        "set"
      ],
      "metadata": {
        "colab": {
          "base_uri": "https://localhost:8080/"
        },
        "id": "Q7lRKb1EZhjr",
        "outputId": "edf2a9cf-c2ae-4ec1-dd45-e58a4dd0a3d8"
      },
      "execution_count": 27,
      "outputs": [
        {
          "output_type": "execute_result",
          "data": {
            "text/plain": [
              "{1, 2, 3}"
            ]
          },
          "metadata": {},
          "execution_count": 27
        }
      ]
    },
    {
      "cell_type": "markdown",
      "source": [
        "Q19. Write a code to find the union of two sets {1, 2, 3} and {3, 4, 5}."
      ],
      "metadata": {
        "id": "-tivxH37ZyPx"
      }
    },
    {
      "cell_type": "code",
      "source": [
        "set1 ={1, 2, 3}\n",
        "set2 ={3, 4, 5}\n",
        "set1|set2"
      ],
      "metadata": {
        "colab": {
          "base_uri": "https://localhost:8080/"
        },
        "id": "IqprjbmfaTci",
        "outputId": "c783215a-7182-48dd-a590-985deb8705e7"
      },
      "execution_count": 28,
      "outputs": [
        {
          "output_type": "execute_result",
          "data": {
            "text/plain": [
              "{1, 2, 3, 4, 5}"
            ]
          },
          "metadata": {},
          "execution_count": 28
        }
      ]
    },
    {
      "cell_type": "markdown",
      "source": [
        "Q20. Write a code to find the intersection of two sets {1, 2, 3} and {2, 3, 4}."
      ],
      "metadata": {
        "id": "yt5CAgAAac9q"
      }
    },
    {
      "cell_type": "code",
      "source": [
        "s1= {1, 2, 3}\n",
        "s2= {2, 3, 4}\n",
        "s1 & s2"
      ],
      "metadata": {
        "colab": {
          "base_uri": "https://localhost:8080/"
        },
        "id": "WdmrlI5Qaxsj",
        "outputId": "be49f4f3-aed9-426b-d1fa-779233bed12f"
      },
      "execution_count": 29,
      "outputs": [
        {
          "output_type": "execute_result",
          "data": {
            "text/plain": [
              "{2, 3}"
            ]
          },
          "metadata": {},
          "execution_count": 29
        }
      ]
    },
    {
      "cell_type": "markdown",
      "source": [
        "Q21. Write a code to create a dictionary with the keys \"name\", \"age\", and \"city\", and print it."
      ],
      "metadata": {
        "id": "xuCKrY0ja0Wg"
      }
    },
    {
      "cell_type": "code",
      "source": [
        "my_dict = {\"name\":\"Soma\",\"age\":27,\"city\":\"Gurgaon\"}\n",
        "print(my_dict)"
      ],
      "metadata": {
        "colab": {
          "base_uri": "https://localhost:8080/"
        },
        "id": "4ptpROT3a5ms",
        "outputId": "da29c1d5-7479-4ae3-c3f7-5efc12c48c5e"
      },
      "execution_count": 30,
      "outputs": [
        {
          "output_type": "stream",
          "name": "stdout",
          "text": [
            "{'name': 'Soma', 'age': 27, 'city': 'Gurgaon'}\n"
          ]
        }
      ]
    },
    {
      "cell_type": "markdown",
      "source": [
        "Q22. Write a code to add a new key-value pair \"country\": \"USA\" to the dictionary {'name': 'John', 'age': 25}."
      ],
      "metadata": {
        "id": "K47_zp0Obw8P"
      }
    },
    {
      "cell_type": "code",
      "source": [
        "d = {'name': 'John', 'age': 25}\n",
        "d[\"country\"]=\"USA\"\n",
        "d"
      ],
      "metadata": {
        "colab": {
          "base_uri": "https://localhost:8080/"
        },
        "id": "LDIC1JXGb3fv",
        "outputId": "46e0914e-7d93-4882-d96d-ff4a113f6fae"
      },
      "execution_count": 31,
      "outputs": [
        {
          "output_type": "execute_result",
          "data": {
            "text/plain": [
              "{'name': 'John', 'age': 25, 'country': 'USA'}"
            ]
          },
          "metadata": {},
          "execution_count": 31
        }
      ]
    },
    {
      "cell_type": "markdown",
      "source": [
        "Q23. Write a code to access the value associated with the key \"name\" in the dictionary {'name': 'Alice', 'age': 30}."
      ],
      "metadata": {
        "id": "UChbSWTqcYea"
      }
    },
    {
      "cell_type": "code",
      "source": [
        "person = {'name': 'Alice', 'age': 30}\n",
        "name_value = person['name']\n",
        "print(name_value)"
      ],
      "metadata": {
        "colab": {
          "base_uri": "https://localhost:8080/"
        },
        "id": "yxgIbifecg0Y",
        "outputId": "60bdf29e-dc44-419a-c3da-3a357516d5a6"
      },
      "execution_count": 32,
      "outputs": [
        {
          "output_type": "stream",
          "name": "stdout",
          "text": [
            "Alice\n"
          ]
        }
      ]
    },
    {
      "cell_type": "markdown",
      "source": [
        "Q24. Write a code to remove the key \"age\" from the dictionary {'name': 'Bob', 'age': 22, 'city': 'New York'}."
      ],
      "metadata": {
        "id": "Jg3n35pbc7it"
      }
    },
    {
      "cell_type": "code",
      "source": [
        "d = {'name': 'Bob', 'age': 22, 'city': 'New York'}\n",
        "d.pop(\"age\")\n",
        "d"
      ],
      "metadata": {
        "colab": {
          "base_uri": "https://localhost:8080/"
        },
        "id": "_XfvAlaJc_vE",
        "outputId": "0f6352d6-0751-4aca-e30e-b85a571cb244"
      },
      "execution_count": 33,
      "outputs": [
        {
          "output_type": "execute_result",
          "data": {
            "text/plain": [
              "{'name': 'Bob', 'city': 'New York'}"
            ]
          },
          "metadata": {},
          "execution_count": 33
        }
      ]
    },
    {
      "cell_type": "markdown",
      "source": [
        "Q25. Write a code to check if the key \"city\" exists in the dictionary {'name': 'Alice', 'city': 'Paris'}."
      ],
      "metadata": {
        "id": "NRQmFouEdiEq"
      }
    },
    {
      "cell_type": "code",
      "source": [
        "d = {'name': 'Alice', 'city': 'Paris'}\n",
        "if 'city' in d:\n",
        "    print(\"The key 'city' exists in the dictionary.\")\n",
        "else:\n",
        "    print(\"The key 'city' does not exist in the dictionary.\")"
      ],
      "metadata": {
        "colab": {
          "base_uri": "https://localhost:8080/"
        },
        "id": "A4L3JtJidnYN",
        "outputId": "5a76c666-f277-478b-c90b-0fbf9c255e8a"
      },
      "execution_count": 34,
      "outputs": [
        {
          "output_type": "stream",
          "name": "stdout",
          "text": [
            "The key 'city' exists in the dictionary.\n"
          ]
        }
      ]
    },
    {
      "cell_type": "markdown",
      "source": [
        "Q26. Write a code to create a list, a tuple, and a dictionary, and print them all."
      ],
      "metadata": {
        "id": "VFJTQqQVePZW"
      }
    },
    {
      "cell_type": "code",
      "source": [
        "my_list = [1, 2, 3, 4, 5]\n",
        "print(\"List:\", my_list)\n",
        "\n",
        "my_tuple = ('apple', 'banana', 'cherry')\n",
        "print(\"Tuple:\", my_tuple)\n",
        "\n",
        "my_dict = {'name': 'Alice', 'age': 30, 'city': 'Paris'}\n",
        "print(\"Dictionary:\", my_dict)"
      ],
      "metadata": {
        "colab": {
          "base_uri": "https://localhost:8080/"
        },
        "id": "QkaK20PDeYIW",
        "outputId": "1ed66bf0-a1d4-4885-c210-554bd51a90d0"
      },
      "execution_count": 35,
      "outputs": [
        {
          "output_type": "stream",
          "name": "stdout",
          "text": [
            "List: [1, 2, 3, 4, 5]\n",
            "Tuple: ('apple', 'banana', 'cherry')\n",
            "Dictionary: {'name': 'Alice', 'age': 30, 'city': 'Paris'}\n"
          ]
        }
      ]
    },
    {
      "cell_type": "markdown",
      "source": [
        "Q27. Write a code to create a list of 5 random numbers between 1 and 100, sort it in ascending order, and print the\n",
        "result.(replaced)"
      ],
      "metadata": {
        "id": "_VIemFNXe0AN"
      }
    },
    {
      "cell_type": "code",
      "source": [
        "import random\n",
        "random_numbers = random.sample(range(1, 101), 5)\n",
        "sorted_numbers = sorted(random_numbers)\n",
        "print(sorted_numbers)"
      ],
      "metadata": {
        "colab": {
          "base_uri": "https://localhost:8080/"
        },
        "id": "qjmSATvse55s",
        "outputId": "b50aeadb-520c-41ee-beb5-a09fc18abc36"
      },
      "execution_count": 36,
      "outputs": [
        {
          "output_type": "stream",
          "name": "stdout",
          "text": [
            "[3, 11, 15, 22, 65]\n"
          ]
        }
      ]
    },
    {
      "cell_type": "markdown",
      "source": [
        "Q28. Write a code to create a list with strings and print the element at the third index."
      ],
      "metadata": {
        "id": "--pJB5MBfl8s"
      }
    },
    {
      "cell_type": "code",
      "source": [
        "my_list = [\"apple\", \"banana\", \"cherry\", \"mango\", \"pineapple\"]\n",
        "print(my_list[3])"
      ],
      "metadata": {
        "colab": {
          "base_uri": "https://localhost:8080/"
        },
        "id": "F66OFE73fyc_",
        "outputId": "b8bd2bbb-c3c0-4839-daaf-518bbff602b6"
      },
      "execution_count": 37,
      "outputs": [
        {
          "output_type": "stream",
          "name": "stdout",
          "text": [
            "mango\n"
          ]
        }
      ]
    },
    {
      "cell_type": "markdown",
      "source": [
        "Q29. Write a code to combine two dictionaries into one and print the result."
      ],
      "metadata": {
        "id": "y7tCuaswf7xq"
      }
    },
    {
      "cell_type": "code",
      "source": [
        "d = {'a': 1, 'b': 2}\n",
        "d1= {'c': 3, 'd': 4}\n",
        "\n",
        "d.update(d1)\n",
        "print(d)"
      ],
      "metadata": {
        "colab": {
          "base_uri": "https://localhost:8080/"
        },
        "id": "MB-2KMKagIKH",
        "outputId": "47e1dd72-9efc-4ce1-df19-0ac06a22754a"
      },
      "execution_count": 39,
      "outputs": [
        {
          "output_type": "stream",
          "name": "stdout",
          "text": [
            "{'a': 1, 'b': 2, 'c': 3, 'd': 4}\n"
          ]
        }
      ]
    },
    {
      "cell_type": "markdown",
      "source": [
        "Q30. Write a code to convert a list of strings into a set."
      ],
      "metadata": {
        "id": "B3xy0m7ghDC4"
      }
    },
    {
      "cell_type": "code",
      "source": [
        "fruits = [\"mango\", \"orange\", \"grape\", \"mango\", \"pear\"]\n",
        "unique_fruits = set(fruits)\n",
        "print(unique_fruits)"
      ],
      "metadata": {
        "colab": {
          "base_uri": "https://localhost:8080/",
          "height": 179
        },
        "id": "wtZsLZSYh9IC",
        "outputId": "ce615351-86c3-4067-c378-61bfc5c29583"
      },
      "execution_count": 53,
      "outputs": [
        {
          "output_type": "error",
          "ename": "TypeError",
          "evalue": "'set' object is not callable",
          "traceback": [
            "\u001b[0;31m---------------------------------------------------------------------------\u001b[0m",
            "\u001b[0;31mTypeError\u001b[0m                                 Traceback (most recent call last)",
            "\u001b[0;32m<ipython-input-53-71612907356e>\u001b[0m in \u001b[0;36m<cell line: 0>\u001b[0;34m()\u001b[0m\n\u001b[1;32m      1\u001b[0m \u001b[0mfruits\u001b[0m \u001b[0;34m=\u001b[0m \u001b[0;34m[\u001b[0m\u001b[0;34m\"mango\"\u001b[0m\u001b[0;34m,\u001b[0m \u001b[0;34m\"orange\"\u001b[0m\u001b[0;34m,\u001b[0m \u001b[0;34m\"grape\"\u001b[0m\u001b[0;34m,\u001b[0m \u001b[0;34m\"mango\"\u001b[0m\u001b[0;34m,\u001b[0m \u001b[0;34m\"pear\"\u001b[0m\u001b[0;34m]\u001b[0m\u001b[0;34m\u001b[0m\u001b[0;34m\u001b[0m\u001b[0m\n\u001b[0;32m----> 2\u001b[0;31m \u001b[0munique_fruits\u001b[0m \u001b[0;34m=\u001b[0m \u001b[0mset\u001b[0m\u001b[0;34m(\u001b[0m\u001b[0mfruits\u001b[0m\u001b[0;34m)\u001b[0m\u001b[0;34m\u001b[0m\u001b[0;34m\u001b[0m\u001b[0m\n\u001b[0m\u001b[1;32m      3\u001b[0m \u001b[0mprint\u001b[0m\u001b[0;34m(\u001b[0m\u001b[0munique_fruits\u001b[0m\u001b[0;34m)\u001b[0m\u001b[0;34m\u001b[0m\u001b[0;34m\u001b[0m\u001b[0m\n",
            "\u001b[0;31mTypeError\u001b[0m: 'set' object is not callable"
          ]
        }
      ]
    },
    {
      "cell_type": "markdown",
      "source": [],
      "metadata": {
        "id": "r4tnoIpySuhX"
      }
    }
  ]
}